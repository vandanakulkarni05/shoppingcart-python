{
 "cells": [
  {
   "cell_type": "markdown",
   "id": "7e704c05-cc9f-4c94-928a-acbed3952a20",
   "metadata": {},
   "source": [
    "## Display \"Welcome to the Demo Marketplace\" in e-commerce application\n"
   ]
  },
  {
   "cell_type": "code",
   "execution_count": 1,
   "id": "a9fe2a47-0167-41e8-846e-9310f65ad3b0",
   "metadata": {
    "tags": []
   },
   "outputs": [],
   "source": [
    "def DisplayWelcomeMessage():\n",
    "    print('Welcome to the Demo Marketplace')"
   ]
  },
  {
   "cell_type": "markdown",
   "id": "f2a450f1-050a-42d1-87c4-976a39eac4e1",
   "metadata": {},
   "source": [
    "## Classes for User Logins and Roles"
   ]
  },
  {
   "cell_type": "code",
   "execution_count": 2,
   "id": "7468cbe6-65c0-4795-a7e9-b52c969e7c74",
   "metadata": {
    "tags": []
   },
   "outputs": [],
   "source": [
    "class Role:\n",
    "    def __init__(self, id, name):\n",
    "        self.id = id\n",
    "        self.name = name\n",
    "        \n",
    "    def disp(self):\n",
    "        print('Role details: Role Id', self.id, ' Role Name ', self.name)\n",
    "\n",
    "class User:\n",
    "    def __init__(self, stored_role_class, roleid, rolename, userid, username, password):\n",
    "        self.stored_role = stored_role_class(roleid, rolename)\n",
    "        self.id = userid\n",
    "        self.name = username\n",
    "        self.password = password\n",
    "\n",
    "    def display_role_info(self):\n",
    "        print(self.stored_role.disp())\n",
    "    \n",
    "    def disp_user_info(self):\n",
    "        print('User details: User Id', self.id, ' User Name ', self.name, ' Role is ', self.stored_role.name)"
   ]
  },
  {
   "cell_type": "markdown",
   "id": "9ef8d4d0-f088-40e6-a047-d815857aefd0",
   "metadata": {},
   "source": [
    "## Classes for Product Categories and Product Catalog"
   ]
  },
  {
   "cell_type": "code",
   "execution_count": 3,
   "id": "50c62e66-efa8-483c-8802-9ae4ad4fb5b4",
   "metadata": {
    "tags": []
   },
   "outputs": [],
   "source": [
    "class Category:\n",
    "    def __init__(self, id, name):\n",
    "        self.id = id\n",
    "        self.name = name\n",
    "        \n",
    "    def disp(self):\n",
    "        print('Category details: Category Id', self.id, ' Category Name ', self.name)\n",
    "\n",
    "class Product:\n",
    "    def __init__(self, stored_category_class, categoryid, categoryname, productid, productname, price):\n",
    "        self.stored_category = stored_category_class(categoryid, categoryname)\n",
    "        self.id = productid\n",
    "        self.name = productname\n",
    "        self.price = price\n",
    "\n",
    "    def display_category_info(self):\n",
    "        print(self.stored_category.disp())\n",
    "    \n",
    "    def disp_product_info(self):\n",
    "        print('Product details: Product Id', self.id, ' Product Name ', self.name, ' Price ', self.price, ' Category is ', self.stored_category.name)"
   ]
  },
  {
   "cell_type": "code",
   "execution_count": 4,
   "id": "dd6f3195-bacb-4eab-a46f-f2a8cb1f9399",
   "metadata": {
    "tags": []
   },
   "outputs": [
    {
     "name": "stdout",
     "output_type": "stream",
     "text": [
      "Role details: Role Id 1  Role Name  Admin\n",
      "Role details: Role Id 2  Role Name  User\n"
     ]
    }
   ],
   "source": [
    "# Create admin and user roles\n",
    "\n",
    "adminRole = Role('1', 'Admin')\n",
    "userRole = Role('2', 'User')\n",
    "\n",
    "adminRole.disp()\n",
    "userRole. disp()"
   ]
  },
  {
   "cell_type": "code",
   "execution_count": 5,
   "id": "f19bb682-627f-48fe-a344-e359a4d7ad74",
   "metadata": {
    "tags": []
   },
   "outputs": [
    {
     "name": "stdout",
     "output_type": "stream",
     "text": [
      "User details: User Id 1  User Name  admin  Role is  Admin\n",
      "User details: User Id 2  User Name  vandana  Role is  User\n"
     ]
    }
   ],
   "source": [
    "# Create admin and a normal user i.e. customer login\n",
    "\n",
    "adminUser = User(Role, adminRole.id, adminRole.name, '1', 'admin', 'admin123')\n",
    "customer1 = User(Role, userRole.id, userRole.name, '2', 'vandana', 'vandana123')\n",
    "\n",
    "# Create a list of users\n",
    "users = [adminUser, customer1]\n",
    "for i in users:\n",
    "    i.disp_user_info()"
   ]
  },
  {
   "cell_type": "code",
   "execution_count": 46,
   "id": "c5afa856-2ded-44f8-80bf-df768343e50d",
   "metadata": {
    "tags": []
   },
   "outputs": [
    {
     "name": "stdout",
     "output_type": "stream",
     "text": [
      "Category added successfully\n",
      "Category added successfully\n",
      "Category updated successfully\n",
      "Category deleted successfully\n",
      "Category details: Category Id 1  Category Name  Boots\n",
      "Category details: Category Id 2  Category Name  Coats\n",
      "Category details: Category Id 3  Category Name  Jackets\n",
      "Category details: Category Id 4  Category Name  Caps\n",
      "Category details: Category Id 5  Category Name  Books\n"
     ]
    }
   ],
   "source": [
    "# Create a Product Catalog\n",
    "\n",
    "# Create Categories\n",
    "\n",
    "productCategories = [Category('1', 'Boots'), Category('2', 'Coats'), Category('3', 'Jackets'), Category('4', 'Caps')]\n",
    "\n",
    "#View product categories\n",
    "def ViewCategory(rolename):\n",
    "    if (rolename == 'Admin'):\n",
    "        for i in productCategories:\n",
    "            i.disp()\n",
    "    \n",
    "# Add a new Category\n",
    "def AddCategory(categoryId, categoryName, rolename):\n",
    "    if (rolename == 'Admin'):\n",
    "        productCategories.append(Category(categoryId, categoryName))\n",
    "        print('Category added successfully')\n",
    "    else:\n",
    "        print('You are not authorized to add a category')\n",
    "                              \n",
    "# Edit a Category\n",
    "def EditCategory(categoryId, categoryName, rolename):\n",
    "    if (rolename == 'Admin'):\n",
    "        for i in productCategories:\n",
    "            if i.id == categoryId:\n",
    "                i.name = categoryName \n",
    "                print('Category updated successfully')\n",
    "                break\n",
    "    else:\n",
    "        print('You are not authorized to edit a category')\n",
    "    \n",
    "# Delete a Category\n",
    "def DeleteCategory(categoryId, rolename):\n",
    "    if (rolename == 'Admin'):\n",
    "        for i in productCategories:\n",
    "            if i.id == categoryId:\n",
    "                productCategories.remove(i)\n",
    "                print('Category deleted successfully')\n",
    "                break\n",
    "    else:\n",
    "        print('You are not authorized to delete a category')\n",
    "        \n",
    "AddCategory('5', 'Books', 'Admin')\n",
    "AddCategory('6', 'Electronics', 'Admin')\n",
    "EditCategory('6', 'Gadgets', 'Admin')\n",
    "DeleteCategory('6', 'Admin')\n",
    "ViewCategory('Admin')"
   ]
  },
  {
   "cell_type": "code",
   "execution_count": 56,
   "id": "896312fb-96f4-41c0-9294-052509a0a32b",
   "metadata": {
    "tags": []
   },
   "outputs": [
    {
     "name": "stdout",
     "output_type": "stream",
     "text": [
      "Product added successfully\n",
      "Product details: Product Id 1  Product Name  Boot1  Price  100  Category is  Boots\n",
      "Product details: Product Id 2  Product Name  Boot2  Price  2000  Category is  Boots\n",
      "Product details: Product Id 3  Product Name  Coat1  Price  500  Category is  Coats\n",
      "Product details: Product Id 4  Product Name  Coat2  Price  6000  Category is  Coats\n",
      "Product details: Product Id 5  Product Name  Jacket1  Price  600  Category is  Jackets\n",
      "Product details: Product Id 6  Product Name  Jacket2  Price  200  Category is  Jackets\n",
      "Product details: Product Id 7  Product Name  Cap1  Price  50  Category is  Caps\n",
      "Product details: Product Id 8  Product Name  Cap2  Price  20  Category is  Caps\n",
      "Product details: Product Id 9  Product Name  Book1  Price  50  Category is  Books\n",
      "Product updated successfully\n",
      "Product details: Product Id 1  Product Name  Boot1  Price  100  Category is  Boots\n",
      "Product details: Product Id 2  Product Name  Boot2  Price  2000  Category is  Boots\n",
      "Product details: Product Id 3  Product Name  Coat1  Price  500  Category is  Coats\n",
      "Product details: Product Id 4  Product Name  Coat2  Price  6000  Category is  Coats\n",
      "Product details: Product Id 5  Product Name  Jacket1  Price  600  Category is  Jackets\n",
      "Product details: Product Id 6  Product Name  Jacket2  Price  200  Category is  Jackets\n",
      "Product details: Product Id 7  Product Name  Cap1  Price  50  Category is  Caps\n",
      "Product details: Product Id 8  Product Name  Cap2  Price  20  Category is  Caps\n",
      "Product details: Product Id 9  Product Name  Book2  Price  50  Category is  Books\n",
      "Product deleted successfully\n",
      "Product details: Product Id 1  Product Name  Boot1  Price  100  Category is  Boots\n",
      "Product details: Product Id 2  Product Name  Boot2  Price  2000  Category is  Boots\n",
      "Product details: Product Id 3  Product Name  Coat1  Price  500  Category is  Coats\n",
      "Product details: Product Id 4  Product Name  Coat2  Price  6000  Category is  Coats\n",
      "Product details: Product Id 5  Product Name  Jacket1  Price  600  Category is  Jackets\n",
      "Product details: Product Id 6  Product Name  Jacket2  Price  200  Category is  Jackets\n",
      "Product details: Product Id 7  Product Name  Cap1  Price  50  Category is  Caps\n",
      "Product details: Product Id 8  Product Name  Cap2  Price  20  Category is  Caps\n"
     ]
    }
   ],
   "source": [
    "# Create product catalog\n",
    "productCatalog = []\n",
    "\n",
    "# Create products of category boots\n",
    "boot1 = Product(Category, productCategories[0].id, productCategories[0].name, '1', 'Boot1', 100)\n",
    "productCatalog.insert(0, boot1)\n",
    "\n",
    "boot2 = Product(Category, productCategories[0].id, productCategories[0].name, '2', 'Boot2', 2000)\n",
    "productCatalog.insert(1, boot2)\n",
    "\n",
    "# Create products of category coats\n",
    "coat1 = Product(Category, productCategories[1].id, productCategories[1].name, '3', 'Coat1', 500)\n",
    "productCatalog.insert(2, coat1)\n",
    "\n",
    "coat2 = Product(Category, productCategories[1].id, productCategories[1].name, '4', 'Coat2', 6000)\n",
    "productCatalog.insert(3, coat2)\n",
    "\n",
    "# Create products of category jackets\n",
    "jacket1 = Product(Category, productCategories[2].id, productCategories[2].name, '5', 'Jacket1', 600)\n",
    "productCatalog.insert(4, jacket1)\n",
    "\n",
    "jacket2 = Product(Category, productCategories[2].id, productCategories[2].name, '6', 'Jacket2', 200)\n",
    "productCatalog.insert(5, jacket2)\n",
    "\n",
    "# Create products of category caps\n",
    "cap1 = Product(Category, productCategories[3].id, productCategories[3].name, '7', 'Cap1', 50)\n",
    "productCatalog.insert(6, cap1)\n",
    "\n",
    "cap2 = Product(Category, productCategories[3].id, productCategories[3].name, '8', 'Cap2', 20)\n",
    "productCatalog.insert(7, cap2)\n",
    "\n",
    "# Add a new Category\n",
    "def AddProduct(categoryId, categoryName, productId, productName, price, rolename):\n",
    "    if (rolename == 'Admin'):\n",
    "        newproduct = Product(Category, categoryId, categoryName, productId, productName, price)\n",
    "        productCatalog.append(newproduct)\n",
    "        print('Product added successfully')\n",
    "    else:\n",
    "        print('You are not authorized to add a product')\n",
    "\n",
    "# Edit a Product\n",
    "def EditProduct(categoryId, categoryName, productId, productName, price, rolename):\n",
    "    if (rolename == 'Admin'):\n",
    "        for i in productCatalog:\n",
    "            if i.id == productId:\n",
    "                i.stored_category = Category(categoryId, categoryName)\n",
    "                i.id = productId\n",
    "                i.name = productName\n",
    "                i.price = price\n",
    "                print('Product updated successfully')\n",
    "                break\n",
    "    else:\n",
    "        print('You are not authorized to edit a product')\n",
    "\n",
    "# Delete a Product\n",
    "def DeleteProduct(productId, rolename):\n",
    "    if (rolename == 'Admin'):\n",
    "        for i in productCatalog:\n",
    "            if i.id == productId:\n",
    "                productCatalog.remove(i)\n",
    "                print('Product deleted successfully')\n",
    "                break\n",
    "    else:\n",
    "        print('You are not authorized to delete a product')\n",
    "\n",
    "# Function to view Product Catalog, Only users with role admin or user can view the product catalog \n",
    "def ViewProductCatalog(userRoleName):\n",
    "    if userRoleName == 'Admin' or userRoleName == 'User':\n",
    "        for i in productCatalog:\n",
    "            i.disp_product_info()\n",
    "    else:\n",
    "        print ('You are not authorized to view the product catalog')\n",
    "        \n",
    "AddProduct('5','Books','9','Book1','50','Admin')\n",
    "ViewProductCatalog('Admin')\n",
    "EditProduct('5','Books','9','Book2','50','Admin')\n",
    "ViewProductCatalog('Admin')\n",
    "DeleteProduct('9','Admin')\n",
    "ViewProductCatalog('Admin')"
   ]
  },
  {
   "cell_type": "code",
   "execution_count": 25,
   "id": "efeb9f91-f283-44a9-a008-398e6b03dea0",
   "metadata": {
    "tags": []
   },
   "outputs": [],
   "source": [
    "class CartItem:\n",
    "    def __init__(self, id, productId, quantity):\n",
    "        self.id = id\n",
    "        self.productId = productId\n",
    "        self.quantity = quantity\n",
    "        \n",
    "    def disp(self):\n",
    "        print('Cart Item: Item Id', self.id, ' Product Id ', self.productId, ' Product Quantity ', quantity)\n",
    "\n",
    "class ShoppingCart:\n",
    "    def __init__(self, cartItems, rolename):\n",
    "        self.CartItems = cartItems\n",
    "        self.rolename = rolename\n",
    "        \n",
    "    def disp(self):\n",
    "        if self.rolename == 'User':\n",
    "            for i in self.CartItems:\n",
    "                print('Cart Item: Item Id', i.id, ' Product Id ', i.productId, ' Product Quantity ', i.quantity)\n",
    "        else:\n",
    "            print('You are not authorized to view the cart')\n",
    "    \n",
    "    def addItem(self, cartItem):\n",
    "        if self.rolename == 'User':\n",
    "            self.CartItems.append(cartItem)\n",
    "        else: \n",
    "            print('You are not authorized to add items to the cart')\n",
    "    \n",
    "    def deleteItem(self, cartItemIndex):\n",
    "        if self.rolename == 'User':\n",
    "            del self.CartItems[int(cartItemIndex)]\n",
    "        else: \n",
    "            print('You are not authorized to add items to the cart')\n",
    "    \n",
    "    def checkout(self):\n",
    "        total = 0\n",
    "        for i in self.CartItems:\n",
    "            for j in productCatalog:\n",
    "                if i.productId == j.id:\n",
    "                    total = total + int(i.quantity)*int(j.price)\n",
    "                    break;\n",
    "        return total\n",
    "        print('The total amount is :', str(total))"
   ]
  },
  {
   "cell_type": "markdown",
   "id": "1c3763f9-5d55-46cd-9ae8-d2cd3f689923",
   "metadata": {},
   "source": [
    "## Login Function"
   ]
  },
  {
   "cell_type": "code",
   "execution_count": 10,
   "id": "b58075ee-a4e3-4cfe-8473-c0377b1eb747",
   "metadata": {
    "tags": []
   },
   "outputs": [],
   "source": [
    "## Login \n",
    "def Login(username, password):\n",
    "    for i in users:\n",
    "        if (i.name == username and i.password == password):\n",
    "            return 1\n",
    "    return 0"
   ]
  },
  {
   "cell_type": "markdown",
   "id": "6d91a8b9-0909-4459-ad01-3e3084002c2e",
   "metadata": {},
   "source": [
    "## Application Functions"
   ]
  },
  {
   "cell_type": "code",
   "execution_count": 11,
   "id": "e178a662-3ba3-4c48-b434-35f3de23fc22",
   "metadata": {
    "tags": []
   },
   "outputs": [],
   "source": [
    "## Get User Role\n",
    "def GetUserRole(username):\n",
    "    for i in users:\n",
    "        if i.name == username:\n",
    "            return i.stored_role.name\n",
    "    return ''"
   ]
  },
  {
   "cell_type": "markdown",
   "id": "3ffe2c13-42b7-4d17-9b8c-cb68128f6739",
   "metadata": {},
   "source": [
    "## Shopping Cart Application"
   ]
  },
  {
   "cell_type": "code",
   "execution_count": 13,
   "id": "5e373605-3be0-49d0-9ca3-2149d8458d8d",
   "metadata": {},
   "outputs": [
    {
     "name": "stdout",
     "output_type": "stream",
     "text": [
      "Welcome to the Demo Marketplace\n"
     ]
    }
   ],
   "source": [
    "## Display Welcome Message\n",
    "DisplayWelcomeMessage()"
   ]
  },
  {
   "cell_type": "code",
   "execution_count": 58,
   "id": "9acbd8cc-f2db-40fb-93db-8d3ec4044db3",
   "metadata": {
    "tags": []
   },
   "outputs": [
    {
     "name": "stdout",
     "output_type": "stream",
     "text": [
      "Please enter you login details\n"
     ]
    },
    {
     "name": "stdin",
     "output_type": "stream",
     "text": [
      "Enter your User Name admin\n",
      "Enter your Password admin123\n"
     ]
    },
    {
     "name": "stdout",
     "output_type": "stream",
     "text": [
      "User  admin  is logged in successfully\n",
      "Please select the menu option\n",
      "1. View Product Catalog\n",
      "2. Add Products\n",
      "3. Delete Products\n",
      "4. Exit\n"
     ]
    },
    {
     "name": "stdin",
     "output_type": "stream",
     "text": [
      "Enter your menu option 1, 2 or 3 2\n"
     ]
    },
    {
     "name": "stdout",
     "output_type": "stream",
     "text": [
      "2\n",
      "Product added successfully\n",
      "Product details: Product Id 1  Product Name  Boot1  Price  100  Category is  Boots\n",
      "Product details: Product Id 2  Product Name  Boot2  Price  2000  Category is  Boots\n",
      "Product details: Product Id 3  Product Name  Coat1  Price  500  Category is  Coats\n",
      "Product details: Product Id 4  Product Name  Coat2  Price  6000  Category is  Coats\n",
      "Product details: Product Id 5  Product Name  Jacket1  Price  600  Category is  Jackets\n",
      "Product details: Product Id 6  Product Name  Jacket2  Price  200  Category is  Jackets\n",
      "Product details: Product Id 7  Product Name  Cap1  Price  50  Category is  Caps\n",
      "Product details: Product Id 8  Product Name  Cap2  Price  20  Category is  Caps\n",
      "Product details: Product Id 9  Product Name  Book1  Price  50  Category is  Books\n",
      "Product details: Product Id 9  Product Name  Book1  Price  50  Category is  Books\n"
     ]
    },
    {
     "name": "stdin",
     "output_type": "stream",
     "text": [
      "Enter do you to continue Y/N Y\n"
     ]
    },
    {
     "name": "stdout",
     "output_type": "stream",
     "text": [
      "Please select the menu option\n",
      "1. View Product Catalog\n",
      "2. Add Products\n",
      "3. Delete Products\n",
      "4. Exit\n"
     ]
    },
    {
     "name": "stdin",
     "output_type": "stream",
     "text": [
      "Enter your menu option 1, 2 or 3 3\n"
     ]
    },
    {
     "name": "stdout",
     "output_type": "stream",
     "text": [
      "3\n",
      "Product deleted successfully\n",
      "Product details: Product Id 1  Product Name  Boot1  Price  100  Category is  Boots\n",
      "Product details: Product Id 2  Product Name  Boot2  Price  2000  Category is  Boots\n",
      "Product details: Product Id 3  Product Name  Coat1  Price  500  Category is  Coats\n",
      "Product details: Product Id 4  Product Name  Coat2  Price  6000  Category is  Coats\n",
      "Product details: Product Id 5  Product Name  Jacket1  Price  600  Category is  Jackets\n",
      "Product details: Product Id 6  Product Name  Jacket2  Price  200  Category is  Jackets\n",
      "Product details: Product Id 7  Product Name  Cap1  Price  50  Category is  Caps\n",
      "Product details: Product Id 8  Product Name  Cap2  Price  20  Category is  Caps\n",
      "Product details: Product Id 9  Product Name  Book1  Price  50  Category is  Books\n"
     ]
    },
    {
     "name": "stdin",
     "output_type": "stream",
     "text": [
      "Enter do you to continue Y/N N\n"
     ]
    }
   ],
   "source": [
    "# Ask User to Login\n",
    "print('Please enter you login details')\n",
    "username = input(\"Enter your User Name\")\n",
    "password = input(\"Enter your Password\")\n",
    "if Login(username, password):\n",
    "    print('User ', username, ' is logged in successfully')\n",
    "    authenticatedUser = 1\n",
    "else:\n",
    "    print('Please check the credentials entered')\n",
    "    authenticatedUser = 0\n",
    "cartCount = 1\n",
    "if authenticatedUser == 1:\n",
    "    userrole = GetUserRole(username)\n",
    "    userToContinue = 'Y'\n",
    "\n",
    "    if userrole == 'Admin':\n",
    "        while userToContinue == 'Y':\n",
    "            print('Please select the menu option')\n",
    "            print('1. View Product Catalog')\n",
    "            print('2. Add Products')\n",
    "            print('3. Delete Products')\n",
    "            print('4. Exit')\n",
    "            menuOption = input(\"Enter your menu option 1, 2 or 3\")\n",
    "            print(menuOption)\n",
    "            if menuOption == '1':\n",
    "                   ViewProductCatalog(userrole)\n",
    "            elif menuOption == '2':\n",
    "                   AddProduct('5','Books','9','Book1','50','Admin')\n",
    "                   ViewProductCatalog('Admin')\n",
    "            elif menuOption == '3':\n",
    "                   DeleteProduct('9','Admin')\n",
    "                   ViewProductCatalog('Admin')\n",
    "            elif menuOption == '4':\n",
    "                    print('Exit')\n",
    "            else:\n",
    "                    print('Incorrect menu option')\n",
    "            userToContinue = input(\"Enter do you to continue Y/N\")\n",
    "    elif userrole == 'User':\n",
    "        while userToContinue == 'Y':\n",
    "            print('Please select the menu option')\n",
    "            print('1. View Product Catalog')\n",
    "            print('2. Add Item to Cart')\n",
    "            print('3. Remove Item from Cart')\n",
    "            print('4. Buy items in Cart')\n",
    "            print('5. Exit')\n",
    "            menuOption = input(\"Enter your menu option 1, 2, 3, 4 or 5\")\n",
    "            print(menuOption)\n",
    "            if menuOption == '1':\n",
    "                   ViewProductCatalog(userrole)\n",
    "            elif menuOption == '2':\n",
    "                   productId = input(\"Please enter Product Id\")\n",
    "                   productqty = input(\"Please enter quantity\")\n",
    "                   item = CartItem(cartCount, productId, productqty)\n",
    "                   if cartCount == 1: \n",
    "                        items = []\n",
    "                        items.append(item)\n",
    "                        shoppingCart = ShoppingCart(items,'User')\n",
    "                   else:\n",
    "                        shoppingCart.addItem(item)\n",
    "                   cartCount = cartCount + 1 \n",
    "                   shoppingCart.disp() \n",
    "            elif menuOption == '3':\n",
    "                    cartItemId = input(\"Please enter the cart item index to be deleted\")\n",
    "                    shoppingCart.deleteItem(cartItemId)\n",
    "                    shoppingCart.disp()\n",
    "            elif menuOption == '4':\n",
    "                    print('Buy items in Cart')\n",
    "                    print('Please select the payment option')\n",
    "                    print('1. Net Banking')\n",
    "                    print('2. PayPal')\n",
    "                    print('3. UPI')\n",
    "                    paymentOption=input(\"Enter the payment option 1,2 or 3\")\n",
    "                    if paymentOption == '1' or paymentOption == '2' or paymentOption == '3':\n",
    "                        totalprice = shoppingCart.checkout()\n",
    "                        print (\"You will be shortly redirected to the portal for Unified Payment Interface to make a payment of Rs. \", str(totalprice))\n",
    "            elif menuOption == '5':\n",
    "                    print('Exit')\n",
    "            else:\n",
    "                    print('Incorrect menu option')\n",
    "            userToContinue = input(\"Enter do you to continue Y/N\")"
   ]
  },
  {
   "cell_type": "code",
   "execution_count": null,
   "id": "264d2bca-4003-4ad9-8664-2f06fced8f97",
   "metadata": {},
   "outputs": [],
   "source": []
  }
 ],
 "metadata": {
  "kernelspec": {
   "display_name": "Python 3 (ipykernel)",
   "language": "python",
   "name": "python3"
  },
  "language_info": {
   "codemirror_mode": {
    "name": "ipython",
    "version": 3
   },
   "file_extension": ".py",
   "mimetype": "text/x-python",
   "name": "python",
   "nbconvert_exporter": "python",
   "pygments_lexer": "ipython3",
   "version": "3.11.5"
  }
 },
 "nbformat": 4,
 "nbformat_minor": 5
}
